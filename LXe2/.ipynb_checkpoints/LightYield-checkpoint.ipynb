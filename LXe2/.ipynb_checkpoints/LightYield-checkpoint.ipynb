{
 "cells": [
  {
   "cell_type": "code",
   "execution_count": 1,
   "id": "10de2c1e",
   "metadata": {},
   "outputs": [],
   "source": [
    "import pandas as pd\n",
    "import math\n",
    "import numpy as np\n",
    "import matplotlib.pyplot as plt\n",
    "import matplotlib.gridspec as gridspec\n",
    "\n",
    "import os\n",
    "import re\n",
    "import scipy\n",
    "\n",
    "import matplotlib \n",
    "font = {'family' : 'DejaVu Sans',\n",
    "        'weight' : 'bold',\n",
    "        'size'   : 22}\n",
    "font2 = {'family' : 'DejaVu Sans',\n",
    "        'weight' : 'bold',\n",
    "        'size'   : 28}\n",
    "matplotlib.rc('font', **font)\n",
    "import matplotlib.font_manager as font_manager\n",
    "from matplotlib import rcParams\n",
    "matplotlib.rcParams['mathtext.fontset'] = 'cm'\n",
    "from collections import OrderedDict\n",
    "import matplotlib.ticker as ticker\n",
    "plt.rcParams['axes.facecolor']='white'\n",
    "plt.rcParams['savefig.facecolor']='white'\n",
    "\n",
    "from matplotlib.ticker import (MultipleLocator, FormatStrFormatter,\n",
    "                               AutoMinorLocator)"
   ]
  },
  {
   "cell_type": "code",
   "execution_count": 2,
   "id": "3526900e",
   "metadata": {},
   "outputs": [
    {
     "name": "stdout",
     "output_type": "stream",
     "text": [
      "Welcome to JupyROOT 6.24/06\n"
     ]
    }
   ],
   "source": [
    "import ROOT"
   ]
  },
  {
   "cell_type": "markdown",
   "id": "de753481",
   "metadata": {},
   "source": [
    "#### Relative light yield from D. Cano-Ott et al.  NIMA 430 (1999) 333-347\n",
    "\n",
    "$$\n",
    "\\frac{L}{E_{e}} = \\frac{a_{1}(1-e^{-a_{2}E_{e}})+a_{3}E_{e}+a_{4}E^{2}_{e}}{a_{5}+a_{6}E_{e}+a_{7}E^{2}_{e}}\n",
    "$$\n",
    "\n",
    "with \n",
    "\n",
    "$$\n",
    "a_{i} = (1.6(2),0.058(8),0.580(4),0.00490(2), 0.25(2),0.479(4),0.00494(2))\n",
    "$$"
   ]
  },
  {
   "cell_type": "code",
   "execution_count": 4,
   "id": "cd8be493",
   "metadata": {},
   "outputs": [],
   "source": [
    "def getRelYield(Ee):\n",
    "    a = [1.6,0.058,0.580,0.00490,0.25,0.479,0.00494]\n",
    "    return (a[0]*(1-np.exp(-a[1]*Ee))+a[2]*Ee+a[3]*Ee*Ee)/(a[4]+a[5]*Ee+a[6]*Ee*Ee)\n"
   ]
  },
  {
   "cell_type": "code",
   "execution_count": 12,
   "id": "e13887f5",
   "metadata": {
    "scrolled": false
   },
   "outputs": [
    {
     "data": {
      "image/png": "[encoded data removed]",
      "text/plain": [
       "<Figure size 576x432 with 1 Axes>"
      ]
     },
     "metadata": {
      "needs_background": "light"
     },
     "output_type": "display_data"
    }
   ],
   "source": [
    "fig,ax = plt.subplots()\n",
    "fig.set_size_inches(8,6)\n",
    "xlog = np.linspace(-1,4,200)\n",
    "x = [10**i for i in xlog]\n",
    "y = [getRelYield(Ee) for Ee in x]\n",
    "ax.plot(x,y)\n",
    "ax.set_xscale(\"log\")\n",
    "ax.set_xlim([0.2,1e4])\n",
    "ax.set_ylim([0.9,1.3])\n",
    "ax.grid()"
   ]
  },
  {
   "cell_type": "markdown",
   "id": "416c6544",
   "metadata": {},
   "source": [
    "### For simplicity, just use 40 photons/keV as a yield for electron\n",
    "\n",
    "### For other particle, we refer to Y. Xie et al. NIMB 490 (2021) 25–33  and set the relative value of to 1.29 x 40 photons/ keV"
   ]
  },
  {
   "cell_type": "code",
   "execution_count": 13,
   "id": "b87dc956",
   "metadata": {},
   "outputs": [],
   "source": [
    "electronYieldperKeV = 40\n",
    "othersYieldperKeV = 40 * 1.29"
   ]
  },
  {
   "cell_type": "code",
   "execution_count": 14,
   "id": "910091a1",
   "metadata": {},
   "outputs": [],
   "source": [
    "### Print energy vector"
   ]
  },
  {
   "cell_type": "code",
   "execution_count": 17,
   "id": "cb7d94d1",
   "metadata": {},
   "outputs": [],
   "source": [
    "MeV = 1000.\n",
    "eneKeV = [0*MeV, 0.1*MeV, 0.13*MeV, 0.17*MeV, 0.2*MeV, 0.24*MeV, 0.3*MeV, 0.34*MeV, 0.4*MeV, 0.48*MeV, 0.6*MeV, 0.72*MeV, 0.84*MeV, 1*MeV, 1.3*MeV, 1.7*MeV, 2*MeV, 2.4*MeV, 3*MeV, 3.4*MeV, 4*MeV, 4.8*MeV, 6*MeV, 7.2*MeV, 8.4*MeV, 10*MeV, 13*MeV, 17*MeV, 20*MeV, 24*MeV, 30*MeV, 34*MeV, 40*MeV]"
   ]
  },
  {
   "cell_type": "code",
   "execution_count": null,
   "id": "2d89ac98",
   "metadata": {},
   "outputs": [],
   "source": [
    "yieldVectorElectron = []\n",
    "yieldVectorOthers = []\n",
    "\n",
    "for i in eneKeV:\n",
    "    yieldVectorElectron.append(i*electronYieldperKeV)\n",
    "    eneKeV.append(i*electronYieldperKeV)\n",
    "\n",
    "for i in eneKeV:"
   ]
  }
 ],
 "metadata": {
  "kernelspec": {
   "display_name": "Python 3 (ipykernel)",
   "language": "python",
   "name": "python3"
  },
  "language_info": {
   "codemirror_mode": {
    "name": "ipython",
    "version": 3
   },
   "file_extension": ".py",
   "mimetype": "text/x-python",
   "name": "python",
   "nbconvert_exporter": "python",
   "pygments_lexer": "ipython3",
   "version": "3.9.7"
  }
 },
 "nbformat": 4,
 "nbformat_minor": 5
}
