{
 "cells": [
  {
   "cell_type": "code",
   "execution_count": 1,
   "id": "9a1b2032",
   "metadata": {},
   "outputs": [],
   "source": [
    "import pandas as pd\n",
    "import math\n",
    "import numpy as np\n",
    "import matplotlib.pyplot as plt\n",
    "import matplotlib.gridspec as gridspec\n",
    "\n",
    "import os\n",
    "import re\n",
    "import scipy\n",
    "\n",
    "import matplotlib \n",
    "font = {'family' : 'DejaVu Sans',\n",
    "        'weight' : 'bold',\n",
    "        'size'   : 22}\n",
    "font2 = {'family' : 'DejaVu Sans',\n",
    "        'weight' : 'bold',\n",
    "        'size'   : 28}\n",
    "matplotlib.rc('font', **font)\n",
    "import matplotlib.font_manager as font_manager\n",
    "from matplotlib import rcParams\n",
    "matplotlib.rcParams['mathtext.fontset'] = 'cm'\n",
    "from collections import OrderedDict\n",
    "import matplotlib.ticker as ticker\n",
    "plt.rcParams['axes.facecolor']='white'\n",
    "plt.rcParams['savefig.facecolor']='white'\n",
    "\n",
    "from matplotlib.ticker import (MultipleLocator, FormatStrFormatter,\n",
    "                               AutoMinorLocator)"
   ]
  },
  {
   "cell_type": "code",
   "execution_count": 2,
   "id": "5587a3be",
   "metadata": {},
   "outputs": [
    {
     "name": "stdout",
     "output_type": "stream",
     "text": [
      "Welcome to JupyROOT 6.26/02\n"
     ]
    }
   ],
   "source": [
    "import ROOT"
   ]
  },
  {
   "cell_type": "code",
   "execution_count": 3,
   "id": "8c89e9f3",
   "metadata": {},
   "outputs": [],
   "source": [
    "from pyunfold import iterative_unfold\n",
    "from pyunfold.callbacks import Logger"
   ]
  },
  {
   "cell_type": "code",
   "execution_count": 4,
   "id": "0ef37ae6",
   "metadata": {},
   "outputs": [],
   "source": [
    "import seaborn as sns\n",
    "\n",
    "%matplotlib inline"
   ]
  },
  {
   "cell_type": "code",
   "execution_count": 5,
   "id": "c5fe96bb",
   "metadata": {
    "scrolled": false
   },
   "outputs": [
    {
     "data": {
      "image/png": "[encoded data removed]",
      "text/plain": [
       "<Figure size 684x396 with 1 Axes>"
      ]
     },
     "metadata": {
      "needs_background": "light"
     },
     "output_type": "display_data"
    },
    {
     "name": "stderr",
     "output_type": "stream",
     "text": [
      "Info in <TH1F::SaveAs>: ROOT file hcf252.root has been created\n"
     ]
    }
   ],
   "source": [
    "fig,axis = plt.subplots()\n",
    "fig.set_size_inches(9.5,5.5)\n",
    "fig.subplots_adjust(hspace=0,wspace=0)\n",
    "\n",
    "dat = np.genfromtxt(\"cf252_hires.txt\",dtype='str').transpose()\n",
    "xx = [float(i) for i in dat[1]]\n",
    "yy = [float(i) for i in dat[2]]\n",
    "axis.plot(xx,yy)\n",
    "\n",
    "x = np.arange(0.1,20,0.2)\n",
    "y = np.interp(x,xx,yy)\n",
    "axis.plot(x,y,\"o\")\n",
    "\n",
    "hcf252 = ROOT.TH1F(\"hcf252\",\"hcf252\",52,0,52*200+100)\n",
    "\n",
    "cf252lowres = '/gps/hist/point 0 0\\n'\n",
    "for idx,i in enumerate(x):\n",
    "    cf252lowres+=\"/gps/hist/point %g %g\\n\" % (i,y[idx])\n",
    "    hcf252.SetBinContent(idx+1,y[idx])\n",
    "with open('cf252_lowres.txt', 'w') as f:\n",
    "    f.write(cf252lowres)\n",
    "\n",
    "hcf252.SaveAs(\"hcf252.root\")"
   ]
  },
  {
   "cell_type": "markdown",
   "id": "984584f5",
   "metadata": {},
   "source": [
    "### TOF\n",
    "\n",
    "$$\n",
    "E_{TOF}=\\frac{1}{2}mv^{2}= \\frac{1}{2}(939.6MeV/c^{2})\\left (\\frac{L}{TOF} \\right) ^{2}\n",
    "$$"
   ]
  },
  {
   "cell_type": "code",
   "execution_count": 6,
   "id": "d287a286",
   "metadata": {},
   "outputs": [
    {
     "name": "stdout",
     "output_type": "stream",
     "text": [
      "299.792458 939.5654133\n"
     ]
    }
   ],
   "source": [
    "import scipy.constants as phys_const\n",
    "print(phys_const.speed_of_light*1e3/1e9,phys_const.physical_constants[\"neutron mass energy equivalent in MeV\"][0])\n",
    "\n",
    "def calE(tof,l=1086):\n",
    "    #speed of light (mm/ns)\n",
    "    c = phys_const.speed_of_light*1e3/1e9\n",
    "    cc = 0.5*phys_const.physical_constants[\"neutron mass energy equivalent in MeV\"][0]/c/c\n",
    "    EMeV = cc*(l/tof)*(l/tof)\n",
    "    return EMeV,cc\n",
    "\n",
    "def calT(EMeV,l=1086):\n",
    "    c = phys_const.speed_of_light*1e3/1e9\n",
    "    cc = 0.5*phys_const.physical_constants[\"neutron mass energy equivalent in MeV\"][0]/c/c\n",
    "    tof = l/np.sqrt(EMeV/cc)\n",
    "    return tof,cc\n"
   ]
  },
  {
   "cell_type": "code",
   "execution_count": 7,
   "id": "09f47711",
   "metadata": {},
   "outputs": [
    {
     "name": "stdout",
     "output_type": "stream",
     "text": [
      "(1.0132720540744198, 0.00522703754887143)\n"
     ]
    }
   ],
   "source": [
    "print(calE(78))"
   ]
  },
  {
   "cell_type": "code",
   "execution_count": 8,
   "id": "62ac3d41",
   "metadata": {},
   "outputs": [
    {
     "name": "stdout",
     "output_type": "stream",
     "text": [
      "(78.51590397485576, 0.00522703754887143)\n"
     ]
    }
   ],
   "source": [
    "print(calT(1))"
   ]
  },
  {
   "cell_type": "code",
   "execution_count": 9,
   "id": "87b5b3a5",
   "metadata": {},
   "outputs": [
    {
     "ename": "OSError",
     "evalue": "Failed to open file ../build-LXe/response_matrix.root",
     "output_type": "error",
     "traceback": [
      "\u001b[0;31m---------------------------------------------------------------------------\u001b[0m",
      "\u001b[0;31mOSError\u001b[0m                                   Traceback (most recent call last)",
      "\u001b[0;32m<ipython-input-9-9f25680d138a>\u001b[0m in \u001b[0;36m<module>\u001b[0;34m\u001b[0m\n\u001b[0;32m----> 1\u001b[0;31m \u001b[0mf1\u001b[0m \u001b[0;34m=\u001b[0m \u001b[0mROOT\u001b[0m\u001b[0;34m.\u001b[0m\u001b[0mTFile\u001b[0m\u001b[0;34m.\u001b[0m\u001b[0mOpen\u001b[0m\u001b[0;34m(\u001b[0m\u001b[0;34m\"../build-LXe/response_matrix.root\"\u001b[0m\u001b[0;34m)\u001b[0m\u001b[0;34m\u001b[0m\u001b[0;34m\u001b[0m\u001b[0m\n\u001b[0m\u001b[1;32m      2\u001b[0m \u001b[0mh1\u001b[0m \u001b[0;34m=\u001b[0m \u001b[0mf1\u001b[0m\u001b[0;34m.\u001b[0m\u001b[0mGet\u001b[0m\u001b[0;34m(\u001b[0m\u001b[0;34m\"hmatrix\"\u001b[0m\u001b[0;34m)\u001b[0m\u001b[0;34m\u001b[0m\u001b[0;34m\u001b[0m\u001b[0m\n",
      "\u001b[0;32m/opt/cernroot/root_v6.26.02/lib/ROOT/_pythonization/_tfile.py\u001b[0m in \u001b[0;36m_TFileOpen\u001b[0;34m(klass, *args)\u001b[0m\n\u001b[1;32m     65\u001b[0m     \u001b[0;32mif\u001b[0m \u001b[0mf\u001b[0m \u001b[0;34m==\u001b[0m \u001b[0mbind_object\u001b[0m\u001b[0;34m(\u001b[0m\u001b[0;36m0\u001b[0m\u001b[0;34m,\u001b[0m \u001b[0mklass\u001b[0m\u001b[0;34m)\u001b[0m\u001b[0;34m:\u001b[0m\u001b[0;34m\u001b[0m\u001b[0;34m\u001b[0m\u001b[0m\n\u001b[1;32m     66\u001b[0m         \u001b[0;31m# args[0] can be either a string or a TFileOpenHandle\u001b[0m\u001b[0;34m\u001b[0m\u001b[0;34m\u001b[0m\u001b[0;34m\u001b[0m\u001b[0m\n\u001b[0;32m---> 67\u001b[0;31m         \u001b[0;32mraise\u001b[0m \u001b[0mOSError\u001b[0m\u001b[0;34m(\u001b[0m\u001b[0;34m'Failed to open file {}'\u001b[0m\u001b[0;34m.\u001b[0m\u001b[0mformat\u001b[0m\u001b[0;34m(\u001b[0m\u001b[0mstr\u001b[0m\u001b[0;34m(\u001b[0m\u001b[0margs\u001b[0m\u001b[0;34m[\u001b[0m\u001b[0;36m0\u001b[0m\u001b[0;34m]\u001b[0m\u001b[0;34m)\u001b[0m\u001b[0;34m)\u001b[0m\u001b[0;34m)\u001b[0m\u001b[0;34m\u001b[0m\u001b[0;34m\u001b[0m\u001b[0m\n\u001b[0m\u001b[1;32m     68\u001b[0m     \u001b[0;32mreturn\u001b[0m \u001b[0mf\u001b[0m\u001b[0;34m\u001b[0m\u001b[0;34m\u001b[0m\u001b[0m\n\u001b[1;32m     69\u001b[0m \u001b[0;34m\u001b[0m\u001b[0m\n",
      "\u001b[0;31mOSError\u001b[0m: Failed to open file ../build-LXe/response_matrix.root"
     ]
    },
    {
     "name": "stderr",
     "output_type": "stream",
     "text": [
      "Error in <TFile::ReadBuffer>: error reading all requested bytes from file ../build-LXe/response_matrix.root, got 236 of 300\n",
      "Error in <TFile::Init>: ../build-LXe/response_matrix.root failed to read the file type data.\n"
     ]
    }
   ],
   "source": [
    "f1 = ROOT.TFile.Open(\"../build-LXe/response_matrix.root\")\n",
    "h1 = f1.Get(\"hmatrix\")"
   ]
  },
  {
   "cell_type": "code",
   "execution_count": null,
   "id": "cb985af9",
   "metadata": {},
   "outputs": [],
   "source": [
    "c1 = ROOT.TCanvas(\"c1\",\"c1\",900,700)\n",
    "c1.cd()\n",
    "h1.Draw(\"colz\")\n",
    "c1.Draw()"
   ]
  },
  {
   "cell_type": "code",
   "execution_count": null,
   "id": "d27b545b",
   "metadata": {},
   "outputs": [],
   "source": [
    "x = np.random.normal(2, 1, 100)\n",
    "y = np.random.normal(1, 1, 100)\n",
    "xedges = [0, 1, 3, 5]\n",
    "yedges = [0, 2, 3, 4, 6]\n",
    "# response_hist, _, _ = np.histogram2d([2, 4, 2, 4, 2, 4], [2, 4, 2, 4, 2, 4], bins=2,range=((0,6),(0,6)))\n",
    "H, xedges, yedges = np.histogram2d(x, y, bins=(xedges, yedges))\n",
    "\n",
    "print(H)"
   ]
  },
  {
   "cell_type": "code",
   "execution_count": null,
   "id": "a53db825",
   "metadata": {},
   "outputs": [],
   "source": [
    "response_hist = np.zeros([h1.GetNbinsX(),h1.GetNbinsY()])\n",
    "response_hist_err = np.zeros([h1.GetNbinsX(),h1.GetNbinsY()])\n",
    "for i in range(h1.GetNbinsX()):\n",
    "    for j in range(h1.GetNbinsY()):\n",
    "        response_hist[i][j]=h1.GetBinContent(i+1,j+1)\n",
    "        response_hist_err[i][j]=h1.GetBinError(i+1,j+1)\n",
    "#         response_hist[j][i]=h1.GetBinContent(i+1,j+1)\n",
    "#         response_hist_err[j][i]=h1.GetBinError(i+1,j+1)\n",
    "#         if (response_hist[j][i]==0):\n",
    "#             response_hist[j][i] = 6000"
   ]
  },
  {
   "cell_type": "code",
   "execution_count": null,
   "id": "8a282489",
   "metadata": {},
   "outputs": [],
   "source": [
    "fig, ax = plt.subplots()\n",
    "im = ax.imshow(response_hist, origin='lower')\n",
    "cbar = plt.colorbar(im, label='Counts')\n",
    "ax.set(xlabel='Cause bins', ylabel='Effect bins')\n",
    "plt.show()"
   ]
  },
  {
   "cell_type": "code",
   "execution_count": null,
   "id": "7547600e",
   "metadata": {},
   "outputs": [],
   "source": [
    "efficiencies = np.ones_like(response_hist[0], dtype=float)\n",
    "efficiencies = np.array([0.04909, 0.04524, 0.04183, 0.04051, 0.03752, 0.03591, 0.03503, 0.03522, 0.03502, 0.03473, 0.03462, 0.03323, 0.03454, 0.03392, 0.03748, 0.03296, 0.03404, 0.03563, 0.03571, 0.03423, 0.03214, 0.03157, 0.03037, 0.0299, 0.02863, 0.0284, 0.02772, 0.02829, 0.02715, 0.02814, 0.02754, 0.03149, 0.0261, 0.02621, 0.02637, 0.02566, 0.02748, 0.0296, 0.03041, 0.0304, 0.02933, 0.02696, 0.02621, 0.02643, 0.02639, 0.02705, 0.02752, 0.02765, 0.02703, 0.02639, 0.02651, 0.02619])\n",
    "efficiencies"
   ]
  },
  {
   "cell_type": "code",
   "execution_count": null,
   "id": "ee527408",
   "metadata": {},
   "outputs": [],
   "source": [
    "efficiencies_err = np.array([i*0.01 for i in efficiencies])\n",
    "efficiencies_err = np.array([0.000717633807035315, 0.000687652947350624, 0.000660149595925045, 0.000649238477756825, 0.000623921071931378, 0.000609914158714159, 0.000602138695816836, 0.000603824878586499, 0.00060204983514656, 0.000599467871532745, 0.000598485959735063, 0.000585954203841904, 0.000597770956136211, 0.000592204072934322, 0.000623576381849088, 0.000583492601495512, 0.000593285105156029, 0.000607449560869049, 0.000608154619319791, 0.000594993217608403, 0.00057595989096464, 0.000570672102875198, 0.000559395538952538, 0.000554923508242352, 0.000542675565139983, 0.000540430939158742, 0.000533745242601749, 0.000539354466932462, 0.000528082592971971, 0.000537883440905184, 0.000531962889683106, 0.000569926487364818, 0.000517505652143047, 0.000518622831159601, 0.00052024395143048, 0.000513014966643274, 0.000531367578988406, 0.000552052171447591, 0.00055977466984493, 0.000559679908519146, 0.000549456539682621, 0.000526182873153431, 0.000518622831159601, 0.000520850697417216, 0.000520446271002108, 0.000527083508563871, 0.000531764519312825, 0.000533052741293017, 0.000526883487120255, 0.000520446271002108, 0.000521658701643134, 0.000518419869410886])\n",
    "efficiencies_err"
   ]
  },
  {
   "cell_type": "code",
   "execution_count": null,
   "id": "e1da3542",
   "metadata": {},
   "outputs": [],
   "source": [
    "column_sums = response_hist.sum(axis=0) \n",
    "normalization_factor = efficiencies / column_sums"
   ]
  },
  {
   "cell_type": "code",
   "execution_count": null,
   "id": "30f82242",
   "metadata": {},
   "outputs": [],
   "source": [
    "response = response_hist * normalization_factor\n",
    "response_err = response_hist_err * normalization_factor"
   ]
  },
  {
   "cell_type": "code",
   "execution_count": null,
   "id": "440ccf31",
   "metadata": {},
   "outputs": [],
   "source": [
    "response.sum(axis=0)"
   ]
  },
  {
   "cell_type": "code",
   "execution_count": null,
   "id": "d7e6f2b0",
   "metadata": {},
   "outputs": [],
   "source": [
    "fig, ax = plt.subplots()\n",
    "im = ax.imshow(response, origin='lower')\n",
    "cbar = plt.colorbar(im, label='$P(E_i|C_{\\mu})$')\n",
    "ax.set(xlabel='Cause bins', ylabel='Effect bins',\n",
    "       title='Normalizes response matrix')\n",
    "plt.show()"
   ]
  },
  {
   "cell_type": "code",
   "execution_count": null,
   "id": "5337bac7",
   "metadata": {},
   "outputs": [],
   "source": [
    "def unfold(inpfile = \"../build-LXe/data_Cf252.root\",inphist = \"h7\"):\n",
    "    f1 = ROOT.TFile.Open(inpfile)\n",
    "    h7 = f1.Get(inphist)\n",
    "    data_observed = []\n",
    "    data_observed_err = []\n",
    "    for i in range(h7.GetNbinsX()):\n",
    "        data_observed.append(h7.GetBinContent(i+1))\n",
    "        data_observed_err.append(h7.GetBinError(i+1))\n",
    "\n",
    "    unfolded_results = iterative_unfold(data=data_observed,\n",
    "                                        data_err=data_observed_err,\n",
    "                                        response=response,\n",
    "                                        response_err=response_err,\n",
    "                                        efficiencies=efficiencies,\n",
    "                                        efficiencies_err=efficiencies_err,\n",
    "                                        callbacks=[Logger()])\n",
    "    return data_observed,data_observed_err,unfolded_results"
   ]
  },
  {
   "cell_type": "code",
   "execution_count": null,
   "id": "5f8c5fca",
   "metadata": {},
   "outputs": [],
   "source": [
    "data_observed,data_observed_err,unfolded_results = unfold(inpfile = \"../build-LXe/data_Cf252.root\",inphist = \"h7\")"
   ]
  },
  {
   "cell_type": "code",
   "execution_count": null,
   "id": "3775832d",
   "metadata": {},
   "outputs": [],
   "source": [
    "unfolded_results['unfolded']"
   ]
  },
  {
   "cell_type": "code",
   "execution_count": null,
   "id": "05309996",
   "metadata": {},
   "outputs": [],
   "source": [
    "unfolded_results['sys_err']"
   ]
  },
  {
   "cell_type": "code",
   "execution_count": null,
   "id": "ea795d91",
   "metadata": {},
   "outputs": [],
   "source": [
    "## In134 neutron spectra\n",
    "fig,axis = plt.subplots()\n",
    "fig.set_size_inches(9.5,5.5)\n",
    "fig.subplots_adjust(hspace=0,wspace=0)\n",
    "\n",
    "dat = np.genfromtxt(\"In134_theo1_hires.txt\",dtype='str').transpose()\n",
    "xx = [float(i) for i in dat[1]]\n",
    "yy = [float(i) for i in dat[2]]\n",
    "axis.plot(xx,yy)\n",
    "\n",
    "x = np.arange(0.1,20,0.2)\n",
    "y = np.interp(x,xx,yy)\n",
    "axis.plot(x,y,\"o\")\n",
    "\n",
    "hin134 = ROOT.TH1F(\"hin134\",\"hin134\",52,0,52*200+100)\n",
    "\n",
    "in134lowres = '/gps/hist/point 0 0\\n'\n",
    "for idx,i in enumerate(x):\n",
    "    in134lowres+=\"/gps/hist/point %g %g\\n\" % (i,y[idx])\n",
    "    hin134.SetBinContent(idx+1,y[idx])\n",
    "with open('In134_theo1_lowres.txt', 'w') as f:\n",
    "    f.write(in134lowres)\n",
    "\n",
    "hin134.SaveAs(\"hin134.root\")"
   ]
  },
  {
   "cell_type": "code",
   "execution_count": null,
   "id": "15a6e5b2",
   "metadata": {},
   "outputs": [],
   "source": [
    "data_observed,data_observed_err,unfolded_results_in134 = unfold(inpfile = \"../build-LXe/data_in134.root\",inphist = \"h7\")\n",
    "\n",
    "# f1 = ROOT.TFile.Open(\"../build-LXe/data_in134.root\")\n",
    "# h7 = f1.Get(\"h7\")\n",
    "# data_observed = []\n",
    "# data_observed_err = []\n",
    "# for i in range(h7.GetNbinsX()):\n",
    "#     data_observed.append(h7.GetBinContent(i+1))\n",
    "#     data_observed_err.append(h7.GetBinError(i+1))\n",
    "\n",
    "# print(data_observed)\n",
    "# print(data_observed_err)"
   ]
  },
  {
   "cell_type": "code",
   "execution_count": null,
   "id": "717039ae",
   "metadata": {
    "scrolled": false
   },
   "outputs": [],
   "source": [
    "def getSpec(ftmp,unfolded_results , observfile = \"../build-LXe/data_in134.root\",geant4inp = \"hin134.root\",geantinpname = \"hin134\"):\n",
    "    f1 = ROOT.TFile.Open(observfile)\n",
    "    nbins = f1.h7.GetNbinsX()\n",
    "    xmax = f1.h7.GetXaxis().GetXmax()\n",
    "    maxBinContent = f1.h7.GetMaximum()\n",
    "    ftmp.cd()\n",
    "    h7c = f1.h7.Clone()\n",
    "    print(nbins,xmax)\n",
    "\n",
    "    f2 = ROOT.TFile.Open(geant4inp)\n",
    "    hin134 = f2.Get(geantinpname)\n",
    "    hresult = ROOT.TH1F(\"hresult\",\"hresult\",nbins,0,xmax)\n",
    "    for i in range(len(unfolded_results['unfolded'])):\n",
    "        hresult.SetBinContent(i+1,unfolded_results['unfolded'][i])\n",
    "        hresult.SetBinError(i+1,unfolded_results['sys_err'][i])\n",
    "    scale = maxBinContent/hresult.GetMaximum()\n",
    "    hresult.Scale(scale)\n",
    "    hresult.SetMarkerStyle(20)\n",
    "    ftmp.cd()\n",
    "    hresultc = hresult.Clone()\n",
    "    # hresult.GetXaxis().SetRangeUser(0,2000)\n",
    "    hin134.SetLineColor(2)\n",
    "    scale = maxBinContent/hin134.GetMaximum()\n",
    "    # print(hcf252.GetMaximum(),hresult.GetMaximum())\n",
    "    hin134.Scale(scale)\n",
    "    ftmp.cd()\n",
    "    hin34c = hin134.Clone()\n",
    "    f1.Close()\n",
    "    f2.Close()\n",
    "    h7c.SetLineColor(3)\n",
    "    return h7c,hin34c,hresultc"
   ]
  },
  {
   "cell_type": "code",
   "execution_count": null,
   "id": "d477be8d",
   "metadata": {
    "scrolled": false
   },
   "outputs": [],
   "source": [
    "ftmp = ROOT.TFile.Open(\"tmp.root\",\"recreate\")\n",
    "leg = ROOT.TLegend(0.7,0.6-0.4,0.85,0.85-0.4)\n",
    "leg.SetLineColor(0)\n",
    "c1 = ROOT.TCanvas(\"c1\",\"c1\",1200,700)\n",
    "c1.cd()\n",
    "h7c,hin134c,hresult = getSpec(ftmp,unfolded_results_in134)\n",
    "hresult.Draw(\"E0\")\n",
    "hresult.GetXaxis().SetTitle(\"Energy (keV)\")\n",
    "hresult.GetYaxis().SetTitle(\"Counts\")\n",
    "hin134c.SetLineWidth(2)\n",
    "hin134c.Draw(\"hist same\")\n",
    "h7c.SetLineWidth(2)\n",
    "h7c.Draw(\"hist same\")\n",
    "\n",
    "h7cc = h7c.Clone()\n",
    "h7cc.SetName(\"h7cc\")\n",
    "h7cc.SetLineColor(5)\n",
    "for i in range(h7c.GetNbinsX()):\n",
    "    h7cc.SetBinContent(i+1,h7c.GetBinContent(i+1)/efficiencies[i])\n",
    "scale = h7c.GetMaximum()/h7cc.GetMaximum()\n",
    "h7cc.Scale(scale)\n",
    "h7cc.Draw(\"hist same\")\n",
    "\n",
    "leg.AddEntry(hresult,\"Unfolded\")\n",
    "leg.AddEntry(h7c,\"Measured\")\n",
    "leg.AddEntry(h7cc,\"Measured wEff corr.\")\n",
    "leg.AddEntry(hin134c,\"Getant4 input\")\n",
    "leg.Draw()\n",
    "c1.Draw()"
   ]
  },
  {
   "cell_type": "code",
   "execution_count": null,
   "id": "b2e32a80",
   "metadata": {},
   "outputs": [],
   "source": [
    "ftmp = ROOT.TFile.Open(\"tmp.root\",\"recreate\")\n",
    "c1 = ROOT.TCanvas(\"c1\",\"c1\",1200,700)\n",
    "leg = ROOT.TLegend(0.7,0.6-0.4,0.85,0.85-0.4)\n",
    "leg.SetLineColor(0)\n",
    "c1.cd()\n",
    "h7c,hin134c,hresult = getSpec(ftmp,unfolded_results,\"../build-LXe/data_Cf252.root\",\"hcf252.root\",\"hcf252\")\n",
    "hresult.Draw(\"E0\")\n",
    "hresult.GetXaxis().SetTitle(\"Energy (keV)\")\n",
    "hresult.GetYaxis().SetTitle(\"Counts\")\n",
    "hin134c.SetLineWidth(2)\n",
    "hin134c.Draw(\"hist same\")\n",
    "h7c.SetLineWidth(2)\n",
    "h7c.Draw(\"hist same\")\n",
    "\n",
    "h7cc = h7c.Clone()\n",
    "h7cc.SetName(\"h7cc\")\n",
    "h7cc.SetLineColor(5)\n",
    "for i in range(h7c.GetNbinsX()):\n",
    "    h7cc.SetBinContent(i+1,h7c.GetBinContent(i+1)/efficiencies[i])\n",
    "scale = h7c.GetMaximum()/h7cc.GetMaximum()\n",
    "h7cc.Scale(scale)\n",
    "h7cc.Draw(\"hist same\")\n",
    "\n",
    "leg.AddEntry(hresult,\"Unfolded\")\n",
    "leg.AddEntry(h7c,\"Measured\")\n",
    "leg.AddEntry(h7cc,\"Measured wEff corr.\")\n",
    "leg.AddEntry(hin134c,\"Getant4 input\")\n",
    "leg.Draw()\n",
    "c1.Draw()"
   ]
  },
  {
   "cell_type": "code",
   "execution_count": null,
   "id": "97d715fb",
   "metadata": {
    "scrolled": false
   },
   "outputs": [],
   "source": [
    "ROOT.gStyle.SetOptStat(0)\n",
    "ftmp = ROOT.TFile.Open(\"/home/phong/projects/tofusim/build-LXe/response_matrix.root\")\n",
    "c1 = ROOT.TCanvas(\"c1\",\"c1\",1200,800)\n",
    "leg = ROOT.TLegend(0.7,0.3,0.85,0.85)\n",
    "c1.Divide(1,2)\n",
    "k = 0\n",
    "for i in range(0,52):\n",
    "    e = i*200+100\n",
    "#     print(\"htof\"+str(e))\n",
    "    htof = ftmp.Get(\"htof\"+str(e))\n",
    "    he = ftmp.Get(\"hEhires\"+str(e)) \n",
    "    htof.SetLineColor(i+1)\n",
    "    he.SetLineColor(i+1)\n",
    "    htof.SetLineWidth(2)\n",
    "    leg.AddEntry(he,str(e)+\" keV\")\n",
    "    he.SetLineWidth(2)\n",
    "    c1.cd(1).SetLogy()\n",
    "    if (k==0):\n",
    "        htof.Draw()\n",
    "        htof.GetXaxis().SetLabelSize(0.05)\n",
    "        htof.GetYaxis().SetLabelSize(0.05)\n",
    "        htof.GetXaxis().SetRangeUser(0,1200)\n",
    "        htof.GetYaxis().SetRangeUser(1,2000)\n",
    "        htof.GetXaxis().SetTitle(\"TOF [ns]\")\n",
    "        htof.GetYaxis().SetTitle(\"Counts\")\n",
    "        htof.GetXaxis().SetTitleSize(0.06)\n",
    "        htof.GetXaxis().SetTitleOffset(0.8)\n",
    "        htof.GetYaxis().SetTitleSize(0.06)\n",
    "        htof.GetYaxis().SetTitleOffset(0.5)\n",
    "    else:\n",
    "        htof.Draw(\"same\")\n",
    "    c1.cd(2).SetLogy()\n",
    "    if (k==0):\n",
    "        he.Draw()\n",
    "        he.GetXaxis().SetLabelSize(0.05)\n",
    "        he.GetYaxis().SetLabelSize(0.05)\n",
    "        he.GetXaxis().SetRangeUser(0,12000)\n",
    "        he.GetYaxis().SetRangeUser(1.,1400)\n",
    "        he.GetXaxis().SetTitle(\"Energy [keV]\")\n",
    "        he.GetYaxis().SetTitle(\"Counts\")\n",
    "        he.GetXaxis().SetTitleSize(0.06)\n",
    "        he.GetXaxis().SetTitleOffset(0.8)\n",
    "        he.GetYaxis().SetTitleSize(0.06)\n",
    "        he.GetYaxis().SetTitleOffset(0.5)\n",
    "    else:\n",
    "        he.Draw(\"same\")\n",
    "    k+=1\n",
    "    \n",
    "c1.cd(2)\n",
    "leg.SetLineColor(0)\n",
    "# leg.Draw()\n",
    "c1.Draw()\n",
    "# c1.SaveAs(\"/home/phong/Downloads/results_Etof_100to1700keV_230417.root\")\n",
    "c1.SaveAs(\"/home/phong/Downloads/results_Etof_all_230417.root\")\n"
   ]
  },
  {
   "cell_type": "code",
   "execution_count": 10,
   "id": "0aa2a3f0",
   "metadata": {},
   "outputs": [
    {
     "data": {
      "image/png": "[encoded data removed]",
      "text/plain": [
       "<Figure size 684x396 with 1 Axes>"
      ]
     },
     "metadata": {
      "needs_background": "light"
     },
     "output_type": "display_data"
    },
    {
     "name": "stderr",
     "output_type": "stream",
     "text": [
      "Info in <TH1F::SaveAs>: ROOT file htwopeaks.root has been created\n"
     ]
    }
   ],
   "source": [
    "### Simulate two-peak spectra\n",
    "fig,axis = plt.subplots()\n",
    "fig.set_size_inches(9.5,5.5)\n",
    "fig.subplots_adjust(hspace=0,wspace=0)\n",
    "\n",
    "x = np.arange(0.1,20,0.2)\n",
    "y = np.interp(x,xx,yy)\n",
    "axis.plot(x,y,\"o\")\n",
    "\n",
    "htwopeaks = ROOT.TH1F(\"htwopeaks\",\"htwopeaks\",52,0,52*200+100)\n",
    "\n",
    "twopeaks = '/gps/hist/point 0 0\\n'\n",
    "for idx,i in enumerate(x):\n",
    "    twopeaks+=\"/gps/hist/point %g %g\\n\" % (i,y[idx])\n",
    "    htwopeaks.SetBinContent(idx+1,y[idx])\n",
    "with open('twopeaks.txt', 'w') as f:\n",
    "    f.write(twopeaks)\n",
    "\n",
    "htwopeaks.SaveAs(\"htwopeaks.root\")"
   ]
  },
  {
   "cell_type": "markdown",
   "id": "ff14c22b",
   "metadata": {},
   "source": [
    "### Detector efficiency\n",
    "\n",
    "``` \n",
    "root -l\n",
    ".L det_eff.C\n",
    "det_respose()\n",
    "```\n"
   ]
  },
  {
   "cell_type": "code",
   "execution_count": 33,
   "id": "c2d27eae",
   "metadata": {},
   "outputs": [
    {
     "name": "stdout",
     "output_type": "stream",
     "text": [
      "100 0.00973 3.221411537180678\n",
      "300 0.09649 1.066009768535991\n",
      "500 0.09865 1.0553126285819772\n",
      "700 0.10058 1.0460561390351495\n",
      "900 0.09661 1.0654058077769235\n",
      "1000 0.088247 0.351167053939048\n",
      "1100 0.09326 1.082714676231244\n",
      "1300 0.09083 1.0958822168987798\n",
      "1500 0.09162 1.0915423700840543\n",
      "1700 0.09037 1.0984361211008058\n",
      "1900 0.08988 1.101178718709409\n",
      "2100 0.08844 1.1093737359131801\n",
      "2300 0.08529 1.1280382950602887\n",
      "2500 0.08517 1.1287702793519139\n",
      "2700 0.08289 1.1429865023388919\n",
      "2900 0.08702 1.1176587638398212\n",
      "3100 0.08005 1.161558968789904\n",
      "3300 0.08088 1.1560275102055861\n",
      "3500 0.08413 1.135181321983873\n",
      "3700 0.08422 1.1346217084463026\n",
      "3900 0.08258 1.144965921118672\n",
      "4100 0.07741 1.1797553822369555\n",
      "4300 0.07721 1.1811727306186222\n",
      "4500 0.07436 1.2020020953046335\n",
      "4700 0.07234 1.2175225142526902\n",
      "4900 0.06969 1.2389213458915713\n",
      "5100 0.06809 1.25245536494551\n",
      "5300 0.0662 1.2690839287166504\n",
      "5500 0.06674 1.2642593930858073\n",
      "5700 0.06659 1.265593531128355\n",
      "5900 0.06623 1.2688143197671606\n",
      "6100 0.06602 1.2707055195516246\n",
      "6300 0.07413 1.2037364823553327\n",
      "6500 0.06373 1.2919441643642842\n",
      "6700 0.06102 1.3186382932940564\n",
      "6900 0.06188 1.3099736744666794\n",
      "7100 0.06044 1.324588019564995\n",
      "7300 0.06407 1.2887175341340145\n",
      "7500 0.06875 1.2468141218904503\n",
      "7700 0.06945 1.2409209520413709\n",
      "7900 0.06857 1.2483443899464395\n",
      "8100 0.06709 1.2611641852279403\n",
      "8300 0.06292 1.299738347182983\n",
      "8500 0.06053 1.3236590769744419\n",
      "8700 0.05957 1.3336781211638902\n",
      "8900 0.05978 1.3314654586762822\n",
      "9100 0.06103 1.3185364703814741\n",
      "9300 0.06204 1.3083819449957927\n",
      "9500 0.06011 1.328012312710878\n",
      "9700 0.0596 1.3333612972459072\n",
      "9900 0.05898 1.339958953329922\n",
      "10100 0.05797 1.3509367816549709\n",
      "10300 0.05706 1.3610808883816718\n"
     ]
    }
   ],
   "source": [
    "f1 = ROOT.TFile.Open(\"../build-LXe/eff_histogram.root\")\n",
    "x_ene = []\n",
    "y_eff = []\n",
    "for i in range(52):\n",
    "    hname = \"heff%d\" % (200*i+100)\n",
    "    h1 = f1.Get(hname)\n",
    "    eff = h1.GetEntries()/100000\n",
    "    hefferr = np.sqrt(1/h1.GetEntries()+1/100000)*100.\n",
    "    print(200*i+100,eff,hefferr)\n",
    "    x_ene.append(200*i+100)\n",
    "    y_eff.append(eff*100)\n",
    "    if ((200*i+100)==900):\n",
    "        hname = \"heff1000\"\n",
    "        h1 = f1.Get(hname)\n",
    "        eff = h1.GetEntries()/1000000\n",
    "        hefferr = np.sqrt(1/h1.GetEntries()+1/1000000)*100.\n",
    "        print(1000,eff,hefferr)\n",
    "        x_ene.append(1000)\n",
    "        y_eff.append(eff*100)"
   ]
  },
  {
   "cell_type": "code",
   "execution_count": 36,
   "id": "b426c9d9",
   "metadata": {
    "scrolled": false
   },
   "outputs": [
    {
     "data": {
      "text/plain": [
       "Text(0, 0.5, 'Efficiency (%)')"
      ]
     },
     "execution_count": 36,
     "metadata": {},
     "output_type": "execute_result"
    },
    {
     "data": {
      "image/png": "[encoded data removed]",
      "text/plain": [
       "<Figure size 684x396 with 1 Axes>"
      ]
     },
     "metadata": {
      "needs_background": "light"
     },
     "output_type": "display_data"
    }
   ],
   "source": [
    "fig,axis = plt.subplots()\n",
    "fig.set_size_inches(9.5,5.5)\n",
    "fig.subplots_adjust(hspace=0,wspace=0)\n",
    "axis.plot(x_ene,y_eff,\"-\")\n",
    "axis.set_ylim([0,15])\n",
    "axis.set_xlim([0,3500])\n",
    "axis.set_xlabel('Neutron Energy (keV)')\n",
    "axis.set_ylabel('Efficiency (%)')"
   ]
  },
  {
   "cell_type": "code",
   "execution_count": null,
   "id": "10ade258",
   "metadata": {},
   "outputs": [],
   "source": []
  },
  {
   "cell_type": "code",
   "execution_count": null,
   "id": "bcf75f68",
   "metadata": {},
   "outputs": [],
   "source": []
  }
 ],
 "metadata": {
  "kernelspec": {
   "display_name": "venv",
   "language": "python",
   "name": "venv"
  },
  "language_info": {
   "codemirror_mode": {
    "name": "ipython",
    "version": 3
   },
   "file_extension": ".py",
   "mimetype": "text/x-python",
   "name": "python",
   "nbconvert_exporter": "python",
   "pygments_lexer": "ipython3",
   "version": "3.6.8"
  }
 },
 "nbformat": 4,
 "nbformat_minor": 5
}
