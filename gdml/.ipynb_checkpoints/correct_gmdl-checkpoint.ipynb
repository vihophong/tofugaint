{
 "cells": [
  {
   "cell_type": "code",
   "execution_count": 62,
   "id": "b1f8fe1d",
   "metadata": {},
   "outputs": [],
   "source": [
    "import ROOT\n",
    "import numpy as np\n",
    "import matplotlib.pyplot as plt\n",
    "import pandas as pd\n",
    "from matplotlib.ticker import (MultipleLocator, FormatStrFormatter,\n",
    "                               AutoMinorLocator)\n",
    "import matplotlib \n",
    "font = {'family' : 'Times New Roman',\n",
    "        'weight' : 'bold',\n",
    "        'size'   : 20}\n",
    "matplotlib.rc('font', **font)\n",
    "import matplotlib.font_manager as font_manager\n",
    "from matplotlib import rcParams\n",
    "matplotlib.rcParams['mathtext.fontset'] = 'cm'\n",
    "\n",
    "import glob\n",
    "import os\n"
   ]
  },
  {
   "cell_type": "code",
   "execution_count": 71,
   "id": "099cb9f8",
   "metadata": {},
   "outputs": [],
   "source": [
    "headonlyComponents = glob.glob(\"headonly/Volumes/*\")\n",
    "headonlyComponents.sort()\n",
    "sus_platesComponents = glob.glob(\"sus_plates/Volumes/*\")\n",
    "sus_platesComponents.sort()\n",
    "al_frame_topComponents = glob.glob(\"al_frame_top/Volumes/*\")\n",
    "al_frame_topComponents.sort()\n",
    "joinsComponents = glob.glob(\"joins/Volumes/*\")\n",
    "joinsComponents.sort()\n",
    "listall = []\n",
    "# for i in headonlyComponents:\n",
    "#     listall.append(i)\n",
    "for i in sus_platesComponents:\n",
    "    listall.append(i)\n",
    "for i in al_frame_topComponents:\n",
    "    listall.append(i)\n",
    "for i in joinsComponents:\n",
    "    listall.append(i)"
   ]
  },
  {
   "cell_type": "code",
   "execution_count": 75,
   "id": "d6645017",
   "metadata": {},
   "outputs": [
    {
     "data": {
      "text/plain": [
       "9886"
      ]
     },
     "execution_count": 75,
     "metadata": {},
     "output_type": "execute_result"
    }
   ],
   "source": [
    "file1 = open(\"template.gdml\",\"r\")\n",
    "header = \"\"\n",
    "footer = \"\"\n",
    "component = \"\"\n",
    "headerflag = 0\n",
    "while True:\n",
    "    line = file1.readline()\n",
    "    if not line:\n",
    "        break\n",
    "#     line=line[:-1]\n",
    "    if line[0]==\"#\":\n",
    "        headerflag+=1\n",
    "    if (headerflag==1 and line[0]!=\"#\"):\n",
    "        component+=line\n",
    "    if (headerflag==2 and line[0]!=\"#\"):\n",
    "        footer+=line\n",
    "    if headerflag==0:\n",
    "        header+=line\n",
    "file1.close()\n",
    "txttowrite = header\n",
    "for idx,i in enumerate(listall):\n",
    "    txttowrite += component.replace(\"Volumes/final_design_trans_wpla_wrings4.gdml\",\"gdml/\"+os.path.splitext(i)[0]+\"_corr\"+os.path.splitext(i)[1])\n",
    "txttowrite += footer\n",
    "file1 = open(\"mother.gdml\",\"w\")\n",
    "file1.write(txttowrite)"
   ]
  },
  {
   "cell_type": "code",
   "execution_count": 73,
   "id": "024afa48",
   "metadata": {},
   "outputs": [],
   "source": [
    "sus_xml = open(\"materials/sus.xml\",\"r\").read()\n",
    "al6063_xml = open(\"materials/alalloy.xml\",\"r\").read()"
   ]
  },
  {
   "cell_type": "code",
   "execution_count": 76,
   "id": "91a2b386",
   "metadata": {
    "scrolled": false
   },
   "outputs": [],
   "source": [
    "for idx,i in enumerate(headonlyComponents):\n",
    "#     if (idx>0):\n",
    "#         break\n",
    "    file1 = open(i,\"r\")\n",
    "    txt = file1.read()\n",
    "    file1.close()\n",
    "#     txt_replace = txt.replace(\"</define>\",sus_xml)\n",
    "#     txt_replace = txt_replace.replace(\"G4_Si\",\"STAINLESS-STEEL_G4\")\n",
    "    txt_replace = txt_replace.replace(\"G4_Si\",\"G4_STAINLESS-STEEL\")\n",
    "    file1 = open(os.path.splitext(i)[0]+\"_corr\"+os.path.splitext(i)[1],\"w\")\n",
    "    file1.write(txt_replace)\n",
    "    file1.close()\n",
    "\n",
    "for idx,i in enumerate(sus_platesComponents):\n",
    "#     if (idx>0):\n",
    "#         break\n",
    "    file1 = open(i,\"r\")\n",
    "    txt = file1.read()\n",
    "    file1.close()\n",
    "    txt_replace = txt.replace(\"</define>\",sus_xml)\n",
    "    txt_replace = txt_replace.replace(\"G4_Si\",\"STAINLESS-STEEL_G4\")\n",
    "    file1 = open(os.path.splitext(i)[0]+\"_corr\"+os.path.splitext(i)[1],\"w\")\n",
    "    file1.write(txt_replace)\n",
    "    file1.close()\n",
    "    \n",
    "for idx,i in enumerate(al_frame_topComponents):\n",
    "#     if (idx>0):\n",
    "#         break\n",
    "    file1 = open(i,\"r\")\n",
    "    txt = file1.read()\n",
    "    file1.close()\n",
    "    txt_replace = txt.replace(\"</define>\",al6063_xml)\n",
    "    txt_replace = txt_replace.replace(\"G4_Si\",\"AluminiumAlloy6063\")\n",
    "    file1 = open(os.path.splitext(i)[0]+\"_corr\"+os.path.splitext(i)[1],\"w\")\n",
    "    file1.write(txt_replace)\n",
    "    file1.close()\n",
    "\n",
    "for idx,i in enumerate(joinsComponents):\n",
    "#     if (idx>0):\n",
    "#         break\n",
    "    file1 = open(i,\"r\")\n",
    "    txt = file1.read()\n",
    "    file1.close()\n",
    "    txt_replace = txt.replace(\"</define>\",al6063_xml)\n",
    "    txt_replace = txt_replace.replace(\"G4_Si\",\"AluminiumAlloy6063\")\n",
    "    file1 = open(os.path.splitext(i)[0]+\"_corr\"+os.path.splitext(i)[1],\"w\")\n",
    "    file1.write(txt_replace)\n",
    "    file1.close()"
   ]
  },
  {
   "cell_type": "code",
   "execution_count": null,
   "id": "f3c71258",
   "metadata": {},
   "outputs": [],
   "source": []
  },
  {
   "cell_type": "code",
   "execution_count": null,
   "id": "ab477dec",
   "metadata": {},
   "outputs": [],
   "source": []
  }
 ],
 "metadata": {
  "kernelspec": {
   "display_name": "Python 3 (ipykernel)",
   "language": "python",
   "name": "python3"
  },
  "language_info": {
   "codemirror_mode": {
    "name": "ipython",
    "version": 3
   },
   "file_extension": ".py",
   "mimetype": "text/x-python",
   "name": "python",
   "nbconvert_exporter": "python",
   "pygments_lexer": "ipython3",
   "version": "3.9.7"
  }
 },
 "nbformat": 4,
 "nbformat_minor": 5
}
